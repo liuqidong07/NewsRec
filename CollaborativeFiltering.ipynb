{
 "metadata": {
  "language_info": {
   "codemirror_mode": {
    "name": "ipython",
    "version": 3
   },
   "file_extension": ".py",
   "mimetype": "text/x-python",
   "name": "python",
   "nbconvert_exporter": "python",
   "pygments_lexer": "ipython3",
   "version": "3.6.8-final"
  },
  "orig_nbformat": 2,
  "kernelspec": {
   "name": "python3",
   "display_name": "Python 3"
  }
 },
 "nbformat": 4,
 "nbformat_minor": 2,
 "cells": [
  {
   "source": [
    "# 新闻推荐赛题\n",
    "数据包含:30万用户, 36万文章, 300万次点击.\n",
    "其中20万用户的数据作为训练集, 5万作为测试集A, 5万作为测试集B\n",
    "## 数据表\n",
    "train_click_log.csv：训练集用户点击日志\n",
    "\n",
    "testA_click_log.csv：测试集用户点击日志\n",
    "\n",
    "articles.csv：新闻文章信息数据表\n",
    "\n",
    "articles_emb.csv：新闻文章embedding向量表示\n",
    "\n",
    "sample_submit.csv：提交样例文件\n",
    "\n",
    "## 字段表\n",
    "Field\tDescription\n",
    "\n",
    "user_id\t用户id\n",
    "\n",
    "click_article_id\t点击文章id\n",
    "\n",
    "click_timestamp\t点击时间戳\n",
    "\n",
    "click_environment\t点击环境\n",
    "\n",
    "click_deviceGroup\t点击设备组\n",
    "\n",
    "click_os\t点击操作系统\n",
    "\n",
    "click_country\t点击城市\n",
    "\n",
    "click_region\t点击地区\n",
    "\n",
    "click_referrer_type\t点击来源类型\n",
    "\n",
    "article_id\t文章id，与click_article_id相对应\n",
    "\n",
    "category_id\t文章类型id\n",
    "\n",
    "created_at_ts\t文章创建时间戳\n",
    "\n",
    "words_count\t文章字数\n",
    "\n",
    "emb_1,emb_2,…,emb_249\t文章embedding向量表示\n",
    "\n",
    "## 结果提交\n",
    "与sample_submit.csv一致,格式如下:\n",
    "```\n",
    "user_id,article_1,article_2,article_3,article_4,article_5\n",
    "```\n",
    "表示的是预测用户点击新闻文章的Top5\n",
    "\n",
    "## 评分方式\n",
    "$$\n",
    "MRR = score(user) = \\sum^5_{k=1} \\frac{s(user,k)}{k}\n",
    "$$\n",
    "s(user,k)=1当且仅当预测的5个值中含有最后一个购买记录."
   ],
   "cell_type": "markdown",
   "metadata": {}
  },
  {
   "cell_type": "code",
   "execution_count": 1,
   "metadata": {},
   "outputs": [],
   "source": [
    "train_path = r'./data/train_click_log.csv'\n",
    "test_path = r'./data/testA_click_log.csv'\n",
    "article_path = r'./data/articles.csv'\n",
    "article_emb_path = r'./data/articles_emb.csv'"
   ]
  },
  {
   "cell_type": "code",
   "execution_count": 2,
   "metadata": {},
   "outputs": [],
   "source": [
    "import pandas as pd\n",
    "import numpy as np\n",
    "from time import time\n",
    "pd.set_option('max_rows', 100)      #设置最大行数和列数\n",
    "pd.set_option('max_columns', 100)"
   ]
  },
  {
   "cell_type": "code",
   "execution_count": 3,
   "metadata": {},
   "outputs": [],
   "source": [
    "train = pd.read_csv(train_path)\n",
    "test = pd.read_csv(test_path)\n",
    "article = pd.read_csv(article_path)\n",
    "train = train.append(test)    #要把测试集加入到训练集中去,这样来获取测试结果"
   ]
  },
  {
   "cell_type": "code",
   "execution_count": 4,
   "metadata": {},
   "outputs": [
    {
     "output_type": "stream",
     "name": "stdout",
     "text": [
      "Index(['user_id', 'click_article_id', 'click_timestamp', 'click_environment',\n       'click_deviceGroup', 'click_os', 'click_country', 'click_region',\n       'click_referrer_type'],\n      dtype='object')\nIndex(['user_id', 'click_article_id', 'click_timestamp', 'click_environment',\n       'click_deviceGroup', 'click_os', 'click_country', 'click_region',\n       'click_referrer_type'],\n      dtype='object')\n"
     ]
    }
   ],
   "source": [
    "print(train.columns)\n",
    "print(test.columns)"
   ]
  },
  {
   "cell_type": "code",
   "execution_count": 5,
   "metadata": {},
   "outputs": [
    {
     "output_type": "execute_result",
     "data": {
      "text/plain": [
       "        user_id  click_article_id  click_timestamp  click_environment  \\\n",
       "138222   200000            195839    1507030363999                  4   \n",
       "138223   200000            191971    1507030393999                  4   \n",
       "378656   200000            194300    1507651461280                  4   \n",
       "138221   200001            175040    1507029536442                  4   \n",
       "138219   200002            297906    1507029946064                  4   \n",
       "138220   200002            298310    1507029976064                  4   \n",
       "138218   200002            300473    1507029771255                  4   \n",
       "190153   200002            159762    1507134895237                  4   \n",
       "251049   200002             70335    1507291678460                  4   \n",
       "251050   200002            207714    1507292884188                  4   \n",
       "190154   200002            156654    1507134925237                  4   \n",
       "513184   200003            159195    1508183167631                  4   \n",
       "138215   200003            156560    1507029587434                  4   \n",
       "138216   200003            107039    1507029674446                  4   \n",
       "138217   200003            156624    1507029704446                  4   \n",
       "482599   200003             17217    1508007415400                  4   \n",
       "482598   200003            288528    1508007385400                  4   \n",
       "482597   200003             57748    1508007334890                  4   \n",
       "138213   200004            352555    1507031584651                  4   \n",
       "138212   200004            177155    1507031510387                  4   \n",
       "\n",
       "        click_deviceGroup  click_os  click_country  click_region  \\\n",
       "138222                  1        17              1            17   \n",
       "138223                  1        17              1            17   \n",
       "378656                  1        17              1            17   \n",
       "138221                  3         2              1            18   \n",
       "138219                  1        17              1             8   \n",
       "138220                  1        17              1             8   \n",
       "138218                  1        17              1             8   \n",
       "190153                  1        17              1             8   \n",
       "251049                  1        17              1             8   \n",
       "251050                  1        17              1             8   \n",
       "190154                  1        17              1             8   \n",
       "513184                  1        17              1            13   \n",
       "138215                  1        17              1            13   \n",
       "138216                  1        17              1            13   \n",
       "138217                  1        17              1            13   \n",
       "482599                  1        17              1            13   \n",
       "482598                  1        17              1            13   \n",
       "482597                  1        17              1            13   \n",
       "138213                  1        17              1            13   \n",
       "138212                  1        17              1            13   \n",
       "\n",
       "        click_referrer_type  \n",
       "138222                    1  \n",
       "138223                    1  \n",
       "378656                    1  \n",
       "138221                    7  \n",
       "138219                    1  \n",
       "138220                    1  \n",
       "138218                    1  \n",
       "190153                    2  \n",
       "251049                    1  \n",
       "251050                    1  \n",
       "190154                    2  \n",
       "513184                    1  \n",
       "138215                    1  \n",
       "138216                    1  \n",
       "138217                    1  \n",
       "482599                    1  \n",
       "482598                    1  \n",
       "482597                    1  \n",
       "138213                    1  \n",
       "138212                    1  "
      ],
      "text/html": "<div>\n<style scoped>\n    .dataframe tbody tr th:only-of-type {\n        vertical-align: middle;\n    }\n\n    .dataframe tbody tr th {\n        vertical-align: top;\n    }\n\n    .dataframe thead th {\n        text-align: right;\n    }\n</style>\n<table border=\"1\" class=\"dataframe\">\n  <thead>\n    <tr style=\"text-align: right;\">\n      <th></th>\n      <th>user_id</th>\n      <th>click_article_id</th>\n      <th>click_timestamp</th>\n      <th>click_environment</th>\n      <th>click_deviceGroup</th>\n      <th>click_os</th>\n      <th>click_country</th>\n      <th>click_region</th>\n      <th>click_referrer_type</th>\n    </tr>\n  </thead>\n  <tbody>\n    <tr>\n      <th>138222</th>\n      <td>200000</td>\n      <td>195839</td>\n      <td>1507030363999</td>\n      <td>4</td>\n      <td>1</td>\n      <td>17</td>\n      <td>1</td>\n      <td>17</td>\n      <td>1</td>\n    </tr>\n    <tr>\n      <th>138223</th>\n      <td>200000</td>\n      <td>191971</td>\n      <td>1507030393999</td>\n      <td>4</td>\n      <td>1</td>\n      <td>17</td>\n      <td>1</td>\n      <td>17</td>\n      <td>1</td>\n    </tr>\n    <tr>\n      <th>378656</th>\n      <td>200000</td>\n      <td>194300</td>\n      <td>1507651461280</td>\n      <td>4</td>\n      <td>1</td>\n      <td>17</td>\n      <td>1</td>\n      <td>17</td>\n      <td>1</td>\n    </tr>\n    <tr>\n      <th>138221</th>\n      <td>200001</td>\n      <td>175040</td>\n      <td>1507029536442</td>\n      <td>4</td>\n      <td>3</td>\n      <td>2</td>\n      <td>1</td>\n      <td>18</td>\n      <td>7</td>\n    </tr>\n    <tr>\n      <th>138219</th>\n      <td>200002</td>\n      <td>297906</td>\n      <td>1507029946064</td>\n      <td>4</td>\n      <td>1</td>\n      <td>17</td>\n      <td>1</td>\n      <td>8</td>\n      <td>1</td>\n    </tr>\n    <tr>\n      <th>138220</th>\n      <td>200002</td>\n      <td>298310</td>\n      <td>1507029976064</td>\n      <td>4</td>\n      <td>1</td>\n      <td>17</td>\n      <td>1</td>\n      <td>8</td>\n      <td>1</td>\n    </tr>\n    <tr>\n      <th>138218</th>\n      <td>200002</td>\n      <td>300473</td>\n      <td>1507029771255</td>\n      <td>4</td>\n      <td>1</td>\n      <td>17</td>\n      <td>1</td>\n      <td>8</td>\n      <td>1</td>\n    </tr>\n    <tr>\n      <th>190153</th>\n      <td>200002</td>\n      <td>159762</td>\n      <td>1507134895237</td>\n      <td>4</td>\n      <td>1</td>\n      <td>17</td>\n      <td>1</td>\n      <td>8</td>\n      <td>2</td>\n    </tr>\n    <tr>\n      <th>251049</th>\n      <td>200002</td>\n      <td>70335</td>\n      <td>1507291678460</td>\n      <td>4</td>\n      <td>1</td>\n      <td>17</td>\n      <td>1</td>\n      <td>8</td>\n      <td>1</td>\n    </tr>\n    <tr>\n      <th>251050</th>\n      <td>200002</td>\n      <td>207714</td>\n      <td>1507292884188</td>\n      <td>4</td>\n      <td>1</td>\n      <td>17</td>\n      <td>1</td>\n      <td>8</td>\n      <td>1</td>\n    </tr>\n    <tr>\n      <th>190154</th>\n      <td>200002</td>\n      <td>156654</td>\n      <td>1507134925237</td>\n      <td>4</td>\n      <td>1</td>\n      <td>17</td>\n      <td>1</td>\n      <td>8</td>\n      <td>2</td>\n    </tr>\n    <tr>\n      <th>513184</th>\n      <td>200003</td>\n      <td>159195</td>\n      <td>1508183167631</td>\n      <td>4</td>\n      <td>1</td>\n      <td>17</td>\n      <td>1</td>\n      <td>13</td>\n      <td>1</td>\n    </tr>\n    <tr>\n      <th>138215</th>\n      <td>200003</td>\n      <td>156560</td>\n      <td>1507029587434</td>\n      <td>4</td>\n      <td>1</td>\n      <td>17</td>\n      <td>1</td>\n      <td>13</td>\n      <td>1</td>\n    </tr>\n    <tr>\n      <th>138216</th>\n      <td>200003</td>\n      <td>107039</td>\n      <td>1507029674446</td>\n      <td>4</td>\n      <td>1</td>\n      <td>17</td>\n      <td>1</td>\n      <td>13</td>\n      <td>1</td>\n    </tr>\n    <tr>\n      <th>138217</th>\n      <td>200003</td>\n      <td>156624</td>\n      <td>1507029704446</td>\n      <td>4</td>\n      <td>1</td>\n      <td>17</td>\n      <td>1</td>\n      <td>13</td>\n      <td>1</td>\n    </tr>\n    <tr>\n      <th>482599</th>\n      <td>200003</td>\n      <td>17217</td>\n      <td>1508007415400</td>\n      <td>4</td>\n      <td>1</td>\n      <td>17</td>\n      <td>1</td>\n      <td>13</td>\n      <td>1</td>\n    </tr>\n    <tr>\n      <th>482598</th>\n      <td>200003</td>\n      <td>288528</td>\n      <td>1508007385400</td>\n      <td>4</td>\n      <td>1</td>\n      <td>17</td>\n      <td>1</td>\n      <td>13</td>\n      <td>1</td>\n    </tr>\n    <tr>\n      <th>482597</th>\n      <td>200003</td>\n      <td>57748</td>\n      <td>1508007334890</td>\n      <td>4</td>\n      <td>1</td>\n      <td>17</td>\n      <td>1</td>\n      <td>13</td>\n      <td>1</td>\n    </tr>\n    <tr>\n      <th>138213</th>\n      <td>200004</td>\n      <td>352555</td>\n      <td>1507031584651</td>\n      <td>4</td>\n      <td>1</td>\n      <td>17</td>\n      <td>1</td>\n      <td>13</td>\n      <td>1</td>\n    </tr>\n    <tr>\n      <th>138212</th>\n      <td>200004</td>\n      <td>177155</td>\n      <td>1507031510387</td>\n      <td>4</td>\n      <td>1</td>\n      <td>17</td>\n      <td>1</td>\n      <td>13</td>\n      <td>1</td>\n    </tr>\n  </tbody>\n</table>\n</div>"
     },
     "metadata": {},
     "execution_count": 5
    }
   ],
   "source": [
    "test = test.sort_values(by='user_id')\n",
    "test.head(20)"
   ]
  },
  {
   "cell_type": "code",
   "execution_count": 6,
   "metadata": {},
   "outputs": [],
   "source": [
    "'''我还并没有看懂,所以在我程序里没有使用'''\n",
    "# 节约内存的一个标配函数\n",
    "def reduce_mem(df):\n",
    "    starttime = time.time()\n",
    "    numerics = ['int16', 'int32', 'int64', 'float16', 'float32', 'float64']\n",
    "    start_mem = df.memory_usage().sum() / 1024**2\n",
    "    for col in df.columns:\n",
    "        col_type = df[col].dtypes\n",
    "        if col_type in numerics:\n",
    "            c_min = df[col].min()\n",
    "            c_max = df[col].max()\n",
    "            if pd.isnull(c_min) or pd.isnull(c_max):\n",
    "                continue\n",
    "            if str(col_type)[:3] == 'int':\n",
    "                if c_min > np.iinfo(np.int8).min and c_max < np.iinfo(np.int8).max:\n",
    "                    df[col] = df[col].astype(np.int8)\n",
    "                elif c_min > np.iinfo(np.int16).min and c_max < np.iinfo(np.int16).max:\n",
    "                    df[col] = df[col].astype(np.int16)\n",
    "                elif c_min > np.iinfo(np.int32).min and c_max < np.iinfo(np.int32).max:\n",
    "                    df[col] = df[col].astype(np.int32)\n",
    "                elif c_min > np.iinfo(np.int64).min and c_max < np.iinfo(np.int64).max:\n",
    "                    df[col] = df[col].astype(np.int64)\n",
    "            else:\n",
    "                if c_min > np.finfo(np.float16).min and c_max < np.finfo(np.float16).max:\n",
    "                    df[col] = df[col].astype(np.float16)\n",
    "                elif c_min > np.finfo(np.float32).min and c_max < np.finfo(np.float32).max:\n",
    "                    df[col] = df[col].astype(np.float32)\n",
    "                else:\n",
    "                    df[col] = df[col].astype(np.float64)\n",
    "    end_mem = df.memory_usage().sum() / 1024**2\n",
    "    print('-- Mem. usage decreased to {:5.2f} Mb ({:.1f}% reduction),time spend:{:2.2f} min'.format(end_mem,\n",
    "                                                                                                           100*(start_mem-end_mem)/start_mem,\n",
    "                                                                                                           (time.time()-starttime)/60))\n",
    "    return df"
   ]
  },
  {
   "source": [
    "## 第一步: 对数据集进行处理\n",
    "**这一步的目的是得到每一个用户的新闻点击序列,这个序列使用一个字典来进行存储. e.g {user_id1:[(item_id1, timestamp), (item_id2, timestamp), ...], ...}**\n",
    "\n",
    "- 先按照时间戳顺序进行排序,然后制造一个it列来存储每一行的(item_id, timestamp)组合\n",
    "- 根据user_id进行分组\n",
    "- 把每个分组中it列的值取出来,就形成了其新闻点击序列"
   ],
   "cell_type": "markdown",
   "metadata": {}
  },
  {
   "cell_type": "code",
   "execution_count": 7,
   "metadata": {},
   "outputs": [
    {
     "output_type": "execute_result",
     "data": {
      "text/plain": [
       "     user_id  click_article_id  click_timestamp  click_environment  \\\n",
       "18    249990            162300    1506959050386                  4   \n",
       "2     249998            160974    1506959056066                  4   \n",
       "30    249985            160974    1506959062960                  4   \n",
       "50    249979            162300    1506959063933                  4   \n",
       "25    249988            160974    1506959064384                  4   \n",
       "52    249978            158082    1506959064972                  4   \n",
       "97    249956            158536    1506959069231                  2   \n",
       "45    249980            160974    1506959069331                  4   \n",
       "32    249984            300470    1506959071824                  4   \n",
       "103   249954            160974    1506959080055                  4   \n",
       "\n",
       "     click_deviceGroup  click_os  click_country  click_region  \\\n",
       "18                   3        20              1            25   \n",
       "2                    1        12              1            13   \n",
       "30                   1        17              1             8   \n",
       "50                   1        17              1            25   \n",
       "25                   1        17              1            21   \n",
       "52                   1        17              1            13   \n",
       "97                   4         2              1            25   \n",
       "45                   1        17              1            21   \n",
       "32                   1        17              1            25   \n",
       "103                  1        17              1            25   \n",
       "\n",
       "     click_referrer_type                       it  \n",
       "18                     2  (162300, 1506959050386)  \n",
       "2                      2  (160974, 1506959056066)  \n",
       "30                     2  (160974, 1506959062960)  \n",
       "50                     2  (162300, 1506959063933)  \n",
       "25                     2  (160974, 1506959064384)  \n",
       "52                     1  (158082, 1506959064972)  \n",
       "97                     7  (158536, 1506959069231)  \n",
       "45                     1  (160974, 1506959069331)  \n",
       "32                     5  (300470, 1506959071824)  \n",
       "103                    2  (160974, 1506959080055)  "
      ],
      "text/html": "<div>\n<style scoped>\n    .dataframe tbody tr th:only-of-type {\n        vertical-align: middle;\n    }\n\n    .dataframe tbody tr th {\n        vertical-align: top;\n    }\n\n    .dataframe thead th {\n        text-align: right;\n    }\n</style>\n<table border=\"1\" class=\"dataframe\">\n  <thead>\n    <tr style=\"text-align: right;\">\n      <th></th>\n      <th>user_id</th>\n      <th>click_article_id</th>\n      <th>click_timestamp</th>\n      <th>click_environment</th>\n      <th>click_deviceGroup</th>\n      <th>click_os</th>\n      <th>click_country</th>\n      <th>click_region</th>\n      <th>click_referrer_type</th>\n      <th>it</th>\n    </tr>\n  </thead>\n  <tbody>\n    <tr>\n      <th>18</th>\n      <td>249990</td>\n      <td>162300</td>\n      <td>1506959050386</td>\n      <td>4</td>\n      <td>3</td>\n      <td>20</td>\n      <td>1</td>\n      <td>25</td>\n      <td>2</td>\n      <td>(162300, 1506959050386)</td>\n    </tr>\n    <tr>\n      <th>2</th>\n      <td>249998</td>\n      <td>160974</td>\n      <td>1506959056066</td>\n      <td>4</td>\n      <td>1</td>\n      <td>12</td>\n      <td>1</td>\n      <td>13</td>\n      <td>2</td>\n      <td>(160974, 1506959056066)</td>\n    </tr>\n    <tr>\n      <th>30</th>\n      <td>249985</td>\n      <td>160974</td>\n      <td>1506959062960</td>\n      <td>4</td>\n      <td>1</td>\n      <td>17</td>\n      <td>1</td>\n      <td>8</td>\n      <td>2</td>\n      <td>(160974, 1506959062960)</td>\n    </tr>\n    <tr>\n      <th>50</th>\n      <td>249979</td>\n      <td>162300</td>\n      <td>1506959063933</td>\n      <td>4</td>\n      <td>1</td>\n      <td>17</td>\n      <td>1</td>\n      <td>25</td>\n      <td>2</td>\n      <td>(162300, 1506959063933)</td>\n    </tr>\n    <tr>\n      <th>25</th>\n      <td>249988</td>\n      <td>160974</td>\n      <td>1506959064384</td>\n      <td>4</td>\n      <td>1</td>\n      <td>17</td>\n      <td>1</td>\n      <td>21</td>\n      <td>2</td>\n      <td>(160974, 1506959064384)</td>\n    </tr>\n    <tr>\n      <th>52</th>\n      <td>249978</td>\n      <td>158082</td>\n      <td>1506959064972</td>\n      <td>4</td>\n      <td>1</td>\n      <td>17</td>\n      <td>1</td>\n      <td>13</td>\n      <td>1</td>\n      <td>(158082, 1506959064972)</td>\n    </tr>\n    <tr>\n      <th>97</th>\n      <td>249956</td>\n      <td>158536</td>\n      <td>1506959069231</td>\n      <td>2</td>\n      <td>4</td>\n      <td>2</td>\n      <td>1</td>\n      <td>25</td>\n      <td>7</td>\n      <td>(158536, 1506959069231)</td>\n    </tr>\n    <tr>\n      <th>45</th>\n      <td>249980</td>\n      <td>160974</td>\n      <td>1506959069331</td>\n      <td>4</td>\n      <td>1</td>\n      <td>17</td>\n      <td>1</td>\n      <td>21</td>\n      <td>1</td>\n      <td>(160974, 1506959069331)</td>\n    </tr>\n    <tr>\n      <th>32</th>\n      <td>249984</td>\n      <td>300470</td>\n      <td>1506959071824</td>\n      <td>4</td>\n      <td>1</td>\n      <td>17</td>\n      <td>1</td>\n      <td>25</td>\n      <td>5</td>\n      <td>(300470, 1506959071824)</td>\n    </tr>\n    <tr>\n      <th>103</th>\n      <td>249954</td>\n      <td>160974</td>\n      <td>1506959080055</td>\n      <td>4</td>\n      <td>1</td>\n      <td>17</td>\n      <td>1</td>\n      <td>25</td>\n      <td>2</td>\n      <td>(160974, 1506959080055)</td>\n    </tr>\n  </tbody>\n</table>\n</div>"
     },
     "metadata": {},
     "execution_count": 7
    }
   ],
   "source": [
    "user_item_time_df = train.sort_values(by='click_timestamp')\n",
    "user_item_time_df['it'] = user_item_time_df.apply(lambda x: (x[1], x[2]), axis=1)\n",
    "user_item_time_df.head(10)"
   ]
  },
  {
   "cell_type": "code",
   "execution_count": 8,
   "metadata": {},
   "outputs": [],
   "source": [
    "user_item_time_df = user_item_time_df[['user_id', 'it']].groupby('user_id')\n",
    "def get_it(x):\n",
    "    return x['it'].values\n",
    "utt = user_item_time_df.apply(get_it)"
   ]
  },
  {
   "cell_type": "code",
   "execution_count": 9,
   "metadata": {},
   "outputs": [
    {
     "output_type": "execute_result",
     "data": {
      "text/plain": [
       "            user_id  click_article_id  click_timestamp  click_environment  \\\n",
       "count  1.630633e+06      1.630633e+06     1.630633e+06       1.630633e+06   \n",
       "mean   1.555463e+05      1.947252e+05     1.507524e+12       3.947632e+00   \n",
       "std    6.754384e+04      9.147543e+04     3.598953e+08       3.264832e-01   \n",
       "min    0.000000e+00      3.000000e+00     1.506959e+12       1.000000e+00   \n",
       "25%    1.055010e+05      1.241770e+05     1.507218e+12       4.000000e+00   \n",
       "50%    1.681920e+05      2.023810e+05     1.507562e+12       4.000000e+00   \n",
       "75%    2.127240e+05      2.771070e+05     1.507767e+12       4.000000e+00   \n",
       "max    2.499990e+05      3.640460e+05     1.510603e+12       4.000000e+00   \n",
       "\n",
       "       click_deviceGroup      click_os  click_country  click_region  \\\n",
       "count       1.630633e+06  1.630633e+06   1.630633e+06  1.630633e+06   \n",
       "mean        1.791299e+00  1.321313e+01   1.322667e+00  1.817220e+01   \n",
       "std         1.031280e+00  6.866810e+00   1.645919e+00  7.091755e+00   \n",
       "min         1.000000e+00  2.000000e+00   1.000000e+00  1.000000e+00   \n",
       "25%         1.000000e+00  2.000000e+00   1.000000e+00  1.300000e+01   \n",
       "50%         1.000000e+00  1.700000e+01   1.000000e+00  2.100000e+01   \n",
       "75%         3.000000e+00  1.700000e+01   1.000000e+00  2.500000e+01   \n",
       "max         5.000000e+00  2.000000e+01   1.100000e+01  2.800000e+01   \n",
       "\n",
       "       click_referrer_type  \n",
       "count         1.630633e+06  \n",
       "mean          1.881330e+00  \n",
       "std           1.178867e+00  \n",
       "min           1.000000e+00  \n",
       "25%           1.000000e+00  \n",
       "50%           2.000000e+00  \n",
       "75%           2.000000e+00  \n",
       "max           7.000000e+00  "
      ],
      "text/html": "<div>\n<style scoped>\n    .dataframe tbody tr th:only-of-type {\n        vertical-align: middle;\n    }\n\n    .dataframe tbody tr th {\n        vertical-align: top;\n    }\n\n    .dataframe thead th {\n        text-align: right;\n    }\n</style>\n<table border=\"1\" class=\"dataframe\">\n  <thead>\n    <tr style=\"text-align: right;\">\n      <th></th>\n      <th>user_id</th>\n      <th>click_article_id</th>\n      <th>click_timestamp</th>\n      <th>click_environment</th>\n      <th>click_deviceGroup</th>\n      <th>click_os</th>\n      <th>click_country</th>\n      <th>click_region</th>\n      <th>click_referrer_type</th>\n    </tr>\n  </thead>\n  <tbody>\n    <tr>\n      <th>count</th>\n      <td>1.630633e+06</td>\n      <td>1.630633e+06</td>\n      <td>1.630633e+06</td>\n      <td>1.630633e+06</td>\n      <td>1.630633e+06</td>\n      <td>1.630633e+06</td>\n      <td>1.630633e+06</td>\n      <td>1.630633e+06</td>\n      <td>1.630633e+06</td>\n    </tr>\n    <tr>\n      <th>mean</th>\n      <td>1.555463e+05</td>\n      <td>1.947252e+05</td>\n      <td>1.507524e+12</td>\n      <td>3.947632e+00</td>\n      <td>1.791299e+00</td>\n      <td>1.321313e+01</td>\n      <td>1.322667e+00</td>\n      <td>1.817220e+01</td>\n      <td>1.881330e+00</td>\n    </tr>\n    <tr>\n      <th>std</th>\n      <td>6.754384e+04</td>\n      <td>9.147543e+04</td>\n      <td>3.598953e+08</td>\n      <td>3.264832e-01</td>\n      <td>1.031280e+00</td>\n      <td>6.866810e+00</td>\n      <td>1.645919e+00</td>\n      <td>7.091755e+00</td>\n      <td>1.178867e+00</td>\n    </tr>\n    <tr>\n      <th>min</th>\n      <td>0.000000e+00</td>\n      <td>3.000000e+00</td>\n      <td>1.506959e+12</td>\n      <td>1.000000e+00</td>\n      <td>1.000000e+00</td>\n      <td>2.000000e+00</td>\n      <td>1.000000e+00</td>\n      <td>1.000000e+00</td>\n      <td>1.000000e+00</td>\n    </tr>\n    <tr>\n      <th>25%</th>\n      <td>1.055010e+05</td>\n      <td>1.241770e+05</td>\n      <td>1.507218e+12</td>\n      <td>4.000000e+00</td>\n      <td>1.000000e+00</td>\n      <td>2.000000e+00</td>\n      <td>1.000000e+00</td>\n      <td>1.300000e+01</td>\n      <td>1.000000e+00</td>\n    </tr>\n    <tr>\n      <th>50%</th>\n      <td>1.681920e+05</td>\n      <td>2.023810e+05</td>\n      <td>1.507562e+12</td>\n      <td>4.000000e+00</td>\n      <td>1.000000e+00</td>\n      <td>1.700000e+01</td>\n      <td>1.000000e+00</td>\n      <td>2.100000e+01</td>\n      <td>2.000000e+00</td>\n    </tr>\n    <tr>\n      <th>75%</th>\n      <td>2.127240e+05</td>\n      <td>2.771070e+05</td>\n      <td>1.507767e+12</td>\n      <td>4.000000e+00</td>\n      <td>3.000000e+00</td>\n      <td>1.700000e+01</td>\n      <td>1.000000e+00</td>\n      <td>2.500000e+01</td>\n      <td>2.000000e+00</td>\n    </tr>\n    <tr>\n      <th>max</th>\n      <td>2.499990e+05</td>\n      <td>3.640460e+05</td>\n      <td>1.510603e+12</td>\n      <td>4.000000e+00</td>\n      <td>5.000000e+00</td>\n      <td>2.000000e+01</td>\n      <td>1.100000e+01</td>\n      <td>2.800000e+01</td>\n      <td>7.000000e+00</td>\n    </tr>\n  </tbody>\n</table>\n</div>"
     },
     "metadata": {},
     "execution_count": 9
    }
   ],
   "source": [
    "train.describe()"
   ]
  },
  {
   "source": [
    "## 第二步: 构建item-item相似矩阵\n",
    "**这一步的目的是构建item间的相似性矩阵. 这也是协同过滤算法中的关键步骤**\n",
    "- 使用i2i_sim来记录相似度矩阵,使用item_num来记录item在所有用户历史记录中出现的次数\n",
    "- 使用Jaccard距离来计算相似度\n",
    "\n",
    "<font color=red>注:</font>\n",
    "- 为什么用字典来存储相似度矩阵和物品频次: 因为矩阵非常稀疏, 用numpy向量来存储非常浪费空间. 其次, item_id并不连续,这样导致使用numpy存储还需要建立索引映射,非常麻烦.\n",
    "- Jaccard距离:\n",
    "$$\n",
    "w_{ij}=\\frac{\\sum_{u \\in N(i)\\bigcap N(j)}\\frac{1}{log(1+|N(u)|)}}{\\sqrt{|N(i)||N(j)|}}\n",
    "$$\n",
    "分子中的倒数惩罚了用户u和用户v共同兴趣列表中热门物品对他们相似度的影响."
   ],
   "cell_type": "markdown",
   "metadata": {}
  },
  {
   "cell_type": "code",
   "execution_count": 10,
   "metadata": {},
   "outputs": [
    {
     "output_type": "stream",
     "name": "stderr",
     "text": [
      "250000it [00:31, 7989.14it/s]\n"
     ]
    }
   ],
   "source": [
    "from tqdm import tqdm\n",
    "import math\n",
    "from collections import defaultdict\n",
    "i2i_sim = {}    #记录物品与物品的相似度矩阵\n",
    "item_num = defaultdict(int)    #记录每个物品出现的次数\n",
    "for user, it_list in tqdm(utt.items()):\n",
    "    for i, i_click_time in it_list:\n",
    "        item_num[i] += 1\n",
    "        i2i_sim.setdefault(i, {})    #有该物品的时候再为其创建一个空矩阵\n",
    "        for j, j_click_time in it_list:\n",
    "            if(i==j):\n",
    "                continue\n",
    "            i2i_sim[i].setdefault(j, 0)    #如果不存在的话就设置为0\n",
    "            i2i_sim[i][j] += 1 / math.log(len(it_list) + 1)\n",
    "for i, related_items in i2i_sim.items():\n",
    "    for j, wij in related_items.items():\n",
    "        i2i_sim[i][j] = wij / math.sqrt(item_num[i] * item_num[j])"
   ]
  },
  {
   "source": [
    "## 第三步: 根据相似度矩阵给出每个用户的召回列表\n",
    "**这一步主要是利用相似矩阵,去计算和用户历史交互相关的物品的分数**\n",
    "- 先给出两个限定条件:sim_num和recall_num. sim_num是确定了只利用与用户历史交互过物品相似度前几个的物品来给出推荐. 而recall_num则是召回列表的长度.\n",
    "- 把每个历史物品的相似物品的分数相加,得到总的召回列表及每个推荐物品的分数.\n",
    "- 利用得分进行排序,给出召回列表.\n",
    "- 若列表长度不够要求的长度, 则使用频次最高的几个物品进行推荐."
   ],
   "cell_type": "markdown",
   "metadata": {}
  },
  {
   "cell_type": "code",
   "execution_count": 11,
   "metadata": {},
   "outputs": [
    {
     "output_type": "execute_result",
     "data": {
      "text/plain": [
       "[272143, 234698, 123909, 336221, 96210, 336223, 183176, 168623, 162655, 331116]"
      ]
     },
     "metadata": {},
     "execution_count": 11
    }
   ],
   "source": [
    "# 获取最热门的n个文章\n",
    "n = 10\n",
    "sort_list = sorted(item_num.items(), key=lambda d: d[1], reverse=True)\n",
    "popular = sort_list[0: n]\n",
    "popular = [tt[0] for tt in popular]\n",
    "popular\n"
   ]
  },
  {
   "cell_type": "code",
   "execution_count": 12,
   "metadata": {},
   "outputs": [],
   "source": [
    "# 给定用户的历史记录, 相似性矩阵,计算出所有物品对于该用户的得分\n",
    "def get_user_like_list(user_id, sim, user_time_item_dict, sim_num, recall_num, popular_list):\n",
    "    user_hist = user_time_item_dict[user_id]\n",
    "    user_hist_list = [item_id for item_id, _ in user_hist]\n",
    "    item_rank = {}\n",
    "\n",
    "    '''计算出除了已经交互过物品的其他物品的评分'''\n",
    "    for i, (item_id, click_time) in enumerate(user_hist):\n",
    "        for j, wij in sorted(sim[item_id].items(), key=lambda x: x[1], reverse=True)[:sim_num]:\n",
    "            if j in user_hist_list:    #对于已经交互过不在进行计算\n",
    "                continue\n",
    "            item_rank.setdefault(j, 0)\n",
    "            item_rank[j] += wij\n",
    "\n",
    "    '''当召回的物品个数不够时, 使用热点物品进行补充'''\n",
    "    if len(item_rank) < recall_num:\n",
    "        for item_id in popular_list:\n",
    "            if item_id in item_rank.keys():\n",
    "                continue\n",
    "            else:\n",
    "                item_rank[item_id] = -1\n",
    "            if len(item_rank) == recall_num:\n",
    "                break\n",
    "    item_rank = sorted(item_rank.items(), key=lambda x: x[1], reverse=True)[:recall_num]\n",
    "    item_rank = [tt[0] for tt in item_rank]\n",
    "    return item_rank"
   ]
  },
  {
   "cell_type": "code",
   "execution_count": 13,
   "metadata": {},
   "outputs": [
    {
     "output_type": "execute_result",
     "data": {
      "text/plain": [
       "[300470, 123909, 16129, 276970, 162655]"
      ]
     },
     "metadata": {},
     "execution_count": 13
    }
   ],
   "source": [
    "sim_num = 10\n",
    "recall_num = 5\n",
    "recall_list = get_user_like_list(user_id=249998, sim=i2i_sim, user_time_item_dict=utt, sim_num=sim_num, recall_num=recall_num, popular_list=popular)\n",
    "recall_list"
   ]
  },
  {
   "cell_type": "code",
   "execution_count": 16,
   "metadata": {
    "tags": []
   },
   "outputs": [
    {
     "output_type": "stream",
     "name": "stderr",
     "text": [
      "100%|██████████| 50000/50000 [18:46<00:00, 44.39it/s]\n"
     ]
    },
    {
     "output_type": "error",
     "ename": "AttributeError",
     "evalue": "'collections.defaultdict' object has no attribute 'head'",
     "traceback": [
      "\u001b[1;31m---------------------------------------------------------------------------\u001b[0m",
      "\u001b[1;31mAttributeError\u001b[0m                            Traceback (most recent call last)",
      "\u001b[1;32m<ipython-input-16-ce98adcb9763>\u001b[0m in \u001b[0;36m<module>\u001b[1;34m\u001b[0m\n\u001b[0;32m      5\u001b[0m \u001b[1;33m\u001b[0m\u001b[0m\n\u001b[0;32m      6\u001b[0m \u001b[0mrecall_df\u001b[0m \u001b[1;33m=\u001b[0m \u001b[0mpd\u001b[0m\u001b[1;33m.\u001b[0m\u001b[0mDataFrame\u001b[0m\u001b[1;33m(\u001b[0m\u001b[0mrecall_dict\u001b[0m\u001b[1;33m)\u001b[0m\u001b[1;33m\u001b[0m\u001b[1;33m\u001b[0m\u001b[0m\n\u001b[1;32m----> 7\u001b[1;33m \u001b[0mrecall_dict\u001b[0m\u001b[1;33m.\u001b[0m\u001b[0mhead\u001b[0m\u001b[1;33m(\u001b[0m\u001b[1;36m10\u001b[0m\u001b[1;33m)\u001b[0m\u001b[1;33m\u001b[0m\u001b[1;33m\u001b[0m\u001b[0m\n\u001b[0m",
      "\u001b[1;31mAttributeError\u001b[0m: 'collections.defaultdict' object has no attribute 'head'"
     ]
    }
   ],
   "source": [
    "recall_dict = defaultdict(dict)\n",
    "'''对test集合里的所有用户进行召回'''\n",
    "for user_id in tqdm(test['user_id'].unique()):\n",
    "    recall_dict[user_id] = get_user_like_list(user_id=user_id, sim=i2i_sim, user_time_item_dict=utt, sim_num=sim_num, recall_num=recall_num, popular_list=popular)\n",
    "\n",
    "recall_df = pd.DataFrame(recall_dict).T"
   ]
  },
  {
   "source": [
    "## 提交\n",
    "提交文件名以时间来命名"
   ],
   "cell_type": "markdown",
   "metadata": {}
  },
  {
   "cell_type": "code",
   "execution_count": 30,
   "metadata": {},
   "outputs": [
    {
     "output_type": "execute_result",
     "data": {
      "text/plain": [
       "   user_id  article_1  article_2  article_3  article_4  article_5\n",
       "0   200000     237870     194619     194935     314048     195773\n",
       "1   200001      64329     272143     199198     324823     166581\n",
       "2   200002     300128     300923      61375     293301     298035\n",
       "3   200003     337143     272143     156619     235230     158536\n",
       "4   200004     235870     235616     336223     261612     156964\n",
       "5   200005      69932     160974     156964     160417     158536\n",
       "6   200006     199197     284547     235230     183176     206934\n",
       "7   200007     289003     157478      97530     218028      66672\n",
       "8   200008     235870     300082     156560      64409     336223\n",
       "9   200009     199198      64329     198659     166581     324823"
      ],
      "text/html": "<div>\n<style scoped>\n    .dataframe tbody tr th:only-of-type {\n        vertical-align: middle;\n    }\n\n    .dataframe tbody tr th {\n        vertical-align: top;\n    }\n\n    .dataframe thead th {\n        text-align: right;\n    }\n</style>\n<table border=\"1\" class=\"dataframe\">\n  <thead>\n    <tr style=\"text-align: right;\">\n      <th></th>\n      <th>user_id</th>\n      <th>article_1</th>\n      <th>article_2</th>\n      <th>article_3</th>\n      <th>article_4</th>\n      <th>article_5</th>\n    </tr>\n  </thead>\n  <tbody>\n    <tr>\n      <th>0</th>\n      <td>200000</td>\n      <td>237870</td>\n      <td>194619</td>\n      <td>194935</td>\n      <td>314048</td>\n      <td>195773</td>\n    </tr>\n    <tr>\n      <th>1</th>\n      <td>200001</td>\n      <td>64329</td>\n      <td>272143</td>\n      <td>199198</td>\n      <td>324823</td>\n      <td>166581</td>\n    </tr>\n    <tr>\n      <th>2</th>\n      <td>200002</td>\n      <td>300128</td>\n      <td>300923</td>\n      <td>61375</td>\n      <td>293301</td>\n      <td>298035</td>\n    </tr>\n    <tr>\n      <th>3</th>\n      <td>200003</td>\n      <td>337143</td>\n      <td>272143</td>\n      <td>156619</td>\n      <td>235230</td>\n      <td>158536</td>\n    </tr>\n    <tr>\n      <th>4</th>\n      <td>200004</td>\n      <td>235870</td>\n      <td>235616</td>\n      <td>336223</td>\n      <td>261612</td>\n      <td>156964</td>\n    </tr>\n    <tr>\n      <th>5</th>\n      <td>200005</td>\n      <td>69932</td>\n      <td>160974</td>\n      <td>156964</td>\n      <td>160417</td>\n      <td>158536</td>\n    </tr>\n    <tr>\n      <th>6</th>\n      <td>200006</td>\n      <td>199197</td>\n      <td>284547</td>\n      <td>235230</td>\n      <td>183176</td>\n      <td>206934</td>\n    </tr>\n    <tr>\n      <th>7</th>\n      <td>200007</td>\n      <td>289003</td>\n      <td>157478</td>\n      <td>97530</td>\n      <td>218028</td>\n      <td>66672</td>\n    </tr>\n    <tr>\n      <th>8</th>\n      <td>200008</td>\n      <td>235870</td>\n      <td>300082</td>\n      <td>156560</td>\n      <td>64409</td>\n      <td>336223</td>\n    </tr>\n    <tr>\n      <th>9</th>\n      <td>200009</td>\n      <td>199198</td>\n      <td>64329</td>\n      <td>198659</td>\n      <td>166581</td>\n      <td>324823</td>\n    </tr>\n  </tbody>\n</table>\n</div>"
     },
     "metadata": {},
     "execution_count": 30
    }
   ],
   "source": [
    "#recall_df = recall_df.T\n",
    "#recall_df = recall_df.reset_index()\n",
    "recall_df.columns = ['user_id', 'article_1', 'article_2', 'article_3', 'article_4', 'article_5']\n",
    "#recall_df.drop('level_0', axis=1, inplace=True)\n",
    "recall_df.head(10)\n"
   ]
  },
  {
   "cell_type": "code",
   "execution_count": 31,
   "metadata": {},
   "outputs": [],
   "source": [
    "import time\n",
    "path_time = time.strftime(\"%Y%m%d%H%M%S\", time.localtime())\n",
    "submit_path = '../submission/' + path_time + '.csv'\n",
    "recall_df.to_csv(submit_path, index=False)"
   ]
  },
  {
   "cell_type": "code",
   "execution_count": null,
   "metadata": {},
   "outputs": [],
   "source": []
  }
 ]
}